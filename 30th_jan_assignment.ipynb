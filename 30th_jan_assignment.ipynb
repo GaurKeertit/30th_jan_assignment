{
 "cells": [
  {
   "cell_type": "markdown",
   "id": "4f35e5eb-afaa-4c33-a416-2e02432f74ef",
   "metadata": {},
   "source": [
    "Q1. Write a program to accept percentage from the user and display the grade ?"
   ]
  },
  {
   "cell_type": "code",
   "execution_count": 5,
   "id": "5ecbdcfc-be5b-443b-a0d4-77724415f78b",
   "metadata": {},
   "outputs": [
    {
     "name": "stdin",
     "output_type": "stream",
     "text": [
      "Enter Your Marks 99\n"
     ]
    },
    {
     "name": "stdout",
     "output_type": "stream",
     "text": [
      "YOU GOT GRADE A \n"
     ]
    }
   ],
   "source": [
    "marks=int(input(\"Enter Your Marks\"))\n",
    "if marks>100:\n",
    "    print(\"Invalid Marks (enter marks under 100 ) \")\n",
    "elif marks<=100 and marks>90:\n",
    "    print(\"YOU GOT GRADE A \")\n",
    "elif marks<=90 and marks>80:\n",
    "    print(\"YOU GOT GRADE B \")\n",
    "elif marks<=80 and marks>=60:\n",
    "    print(\"YOU GOT GRADE C \")\n",
    "else :\n",
    "    print(\"YOU GOT GRADE D \")"
   ]
  },
  {
   "cell_type": "code",
   "execution_count": null,
   "id": "125d4708-c583-4fa4-81e3-6531bddfc30d",
   "metadata": {},
   "outputs": [],
   "source": []
  },
  {
   "cell_type": "markdown",
   "id": "9c9ec553-9898-423f-80ce-07a62527b89d",
   "metadata": {},
   "source": [
    " Q2. Write a program to accept the cost price of a bike and display the road tax to be paid \n"
   ]
  },
  {
   "cell_type": "code",
   "execution_count": 16,
   "id": "cae02f83-0b73-4db1-9d28-2adb54ece2ef",
   "metadata": {},
   "outputs": [
    {
     "name": "stdin",
     "output_type": "stream",
     "text": [
      "Enter The Cost Price Of A Bike  40000\n"
     ]
    },
    {
     "name": "stdout",
     "output_type": "stream",
     "text": [
      "2000.0 is the road Tax to paid. \n"
     ]
    }
   ],
   "source": [
    "price=float(input(\"Enter The Cost Price Of A Bike \"))\n",
    "if price>100000:\n",
    "    tax=0.15\n",
    "elif price>50000 and price <=100000:\n",
    "    tax=0.10\n",
    "elif price<=50000 :\n",
    "    tax=0.05\n",
    "road_tax=price*tax\n",
    "print(road_tax,\"is the road Tax to paid. \")"
   ]
  },
  {
   "cell_type": "code",
   "execution_count": null,
   "id": "1cc57ce4-cfe9-466a-8b24-41f0e844c147",
   "metadata": {},
   "outputs": [],
   "source": []
  },
  {
   "cell_type": "markdown",
   "id": "ea03e366-ea77-4848-a975-f4d61685e153",
   "metadata": {},
   "source": [
    "Q3. Accept any city from the user and display monuments of that city"
   ]
  },
  {
   "cell_type": "code",
   "execution_count": 7,
   "id": "7640c624-00c4-4bca-8514-076245726ce7",
   "metadata": {},
   "outputs": [
    {
     "name": "stdin",
     "output_type": "stream",
     "text": [
      "enter city name jaipur\n"
     ]
    },
    {
     "name": "stdout",
     "output_type": "stream",
     "text": [
      "Jal Mahal\n"
     ]
    }
   ],
   "source": [
    "city=input(\"enter city name\")\n",
    "result=city.lower()\n",
    "\n",
    "if result==\"delhi\":\n",
    "    print(\"Red Fort\")\n",
    "elif result==\"agra\":\n",
    "    print(\"Taj Mahal\")\n",
    "elif result==\"jaipur\":\n",
    "    print(\"Jal Mahal\")\n",
    "else :\n",
    "    print(\"invalid input\")\n"
   ]
  },
  {
   "cell_type": "markdown",
   "id": "80c7d58b-7813-4542-b2b1-e205091fa353",
   "metadata": {},
   "source": [
    "Q4. check how many times a given number can be divided by 3 before it is less than or equal to 10"
   ]
  },
  {
   "cell_type": "code",
   "execution_count": 42,
   "id": "d3c3c159-0a9c-4978-a14e-c1fd2fc153a1",
   "metadata": {},
   "outputs": [
    {
     "name": "stdin",
     "output_type": "stream",
     "text": [
      "enter the number 30\n"
     ]
    },
    {
     "name": "stdout",
     "output_type": "stream",
     "text": [
      "2\n"
     ]
    }
   ],
   "source": [
    "n=float(input(\"enter the number\"))\n",
    "count=0\n",
    "while n>=10:\n",
    "    n=n/3\n",
    "    count+=1\n",
    "print(count)\n",
    "    "
   ]
  },
  {
   "cell_type": "markdown",
   "id": "bcec8fec-9211-4b20-9ee2-b5b3a3497a32",
   "metadata": {},
   "source": [
    "#### Q5. why and when to use while loop in python give a detailed description with example"
   ]
  },
  {
   "cell_type": "markdown",
   "id": "be59d7aa-c62a-4a8a-8770-906f1aa46e83",
   "metadata": {},
   "source": [
    "soln.  Python while loop is used to run a block code until a certain condition is met. Here, A while loop evaluates the condition. If the condition evaluates to True , the code inside the while loop is executed.\n",
    "\n",
    "EXAMPLE:\n",
    "Here we will sum of squares of the first 15 natural numbers using a while loop. Provided that our counter parameter i gives boolean true for the condition, i less than or equal to num, the loop repeatedly executes the code block i number of times."
   ]
  },
  {
   "cell_type": "markdown",
   "id": "6768ba58-f01c-41f6-8aba-99e21669c40b",
   "metadata": {},
   "source": [
    "Q6. use nested while loop to print 3 different pattern"
   ]
  },
  {
   "cell_type": "code",
   "execution_count": 53,
   "id": "9743cae1-dc62-4d21-b4f8-ff1c737204f1",
   "metadata": {},
   "outputs": [
    {
     "name": "stdin",
     "output_type": "stream",
     "text": [
      "Enter number of rows :  4\n"
     ]
    },
    {
     "name": "stdout",
     "output_type": "stream",
     "text": [
      "* \n",
      "* * \n",
      "* * * \n",
      "* * * * \n"
     ]
    }
   ],
   "source": [
    "n = int(input('Enter number of rows : '))\n",
    " \n",
    "i = 1\n",
    "while i <= n :\n",
    "    j = 1\n",
    "    while j <= i:\n",
    "        print(\"*\", end = \" \")\n",
    "        j += 1\n",
    "    print()\n",
    "    i += 1"
   ]
  },
  {
   "cell_type": "code",
   "execution_count": 1,
   "id": "7c3ca0e3-8fe9-48d7-a18b-29be45083025",
   "metadata": {},
   "outputs": [
    {
     "name": "stdout",
     "output_type": "stream",
     "text": [
      "*****\n",
      "****\n",
      "***\n",
      "**\n",
      "*\n"
     ]
    }
   ],
   "source": [
    "n = 5\n",
    "i = 1\n",
    "while i <= n:\n",
    "    j = 1\n",
    "    while j <= n - i + 1:\n",
    "        print(\"*\", end=\"\")\n",
    "        j += 1\n",
    "    print()\n",
    "    i += 1\n"
   ]
  },
  {
   "cell_type": "code",
   "execution_count": 2,
   "id": "8943b1be-0adc-4e60-9e7f-8aef06fe348f",
   "metadata": {},
   "outputs": [
    {
     "name": "stdout",
     "output_type": "stream",
     "text": [
      "    *\n",
      "   **\n",
      "  ***\n",
      " ****\n",
      "*****\n"
     ]
    }
   ],
   "source": [
    "n = 5\n",
    "i = 1\n",
    "while i <= n:\n",
    "    j = 1\n",
    "    while j <= n - i:\n",
    "        print(\" \", end=\"\")\n",
    "        j += 1\n",
    "    j = 1\n",
    "    while j <= i:\n",
    "        print(\"*\", end=\"\")\n",
    "        j += 1\n",
    "    print()\n",
    "    i += 1\n"
   ]
  },
  {
   "cell_type": "markdown",
   "id": "28be497e-d673-4ff5-952b-e5811c53477b",
   "metadata": {},
   "source": [
    "Q7. reverse a while loop to display numbers from 10 to 1"
   ]
  },
  {
   "cell_type": "code",
   "execution_count": 56,
   "id": "70164902-3667-438c-8695-b73f2bccc3d7",
   "metadata": {},
   "outputs": [
    {
     "name": "stdout",
     "output_type": "stream",
     "text": [
      "10\n",
      "9\n",
      "8\n",
      "7\n",
      "6\n",
      "5\n",
      "4\n",
      "3\n",
      "2\n",
      "1\n"
     ]
    }
   ],
   "source": [
    "i=10\n",
    "while i>0:\n",
    "    print(i)\n",
    "    i-=1"
   ]
  }
 ],
 "metadata": {
  "kernelspec": {
   "display_name": "Python 3 (ipykernel)",
   "language": "python",
   "name": "python3"
  },
  "language_info": {
   "codemirror_mode": {
    "name": "ipython",
    "version": 3
   },
   "file_extension": ".py",
   "mimetype": "text/x-python",
   "name": "python",
   "nbconvert_exporter": "python",
   "pygments_lexer": "ipython3",
   "version": "3.10.8"
  }
 },
 "nbformat": 4,
 "nbformat_minor": 5
}
